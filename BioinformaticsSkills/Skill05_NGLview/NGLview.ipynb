{
 "cells": [
  {
   "cell_type": "code",
   "execution_count": 3,
   "id": "d3aa4542",
   "metadata": {
    "collapsed": true
   },
   "outputs": [
    {
     "name": "stdout",
     "output_type": "stream",
     "text": [
      "Collecting nglview\n",
      "  Downloading nglview-3.0.5.tar.gz (5.9 MB)\n",
      "\u001b[2K     \u001b[90m━━━━━━━━━━━━━━━━━━━━━━━━━━━━━━━━━━━━━━━━\u001b[0m \u001b[32m5.9/5.9 MB\u001b[0m \u001b[31m2.0 MB/s\u001b[0m eta \u001b[36m0:00:00\u001b[0m00:01\u001b[0m00:01\u001b[0m\n",
      "\u001b[?25h  Installing build dependencies ... \u001b[?25ldone\n",
      "\u001b[?25h  Getting requirements to build wheel ... \u001b[?25ldone\n",
      "\u001b[?25h  Preparing metadata (pyproject.toml) ... \u001b[?25ldone\n",
      "\u001b[?25hRequirement already satisfied: ipywidgets>=7 in /Users/whe3/anaconda3/envs/mypymolenv/lib/python3.8/site-packages (from nglview) (8.0.6)\n",
      "Requirement already satisfied: jupyterlab-widgets in /Users/whe3/anaconda3/envs/mypymolenv/lib/python3.8/site-packages (from nglview) (3.0.7)\n",
      "Requirement already satisfied: numpy in /Users/whe3/anaconda3/envs/mypymolenv/lib/python3.8/site-packages (from nglview) (1.23.5)\n",
      "Requirement already satisfied: ipykernel>=4.5.1 in /Users/whe3/anaconda3/envs/mypymolenv/lib/python3.8/site-packages (from ipywidgets>=7->nglview) (6.23.2)\n",
      "Requirement already satisfied: ipython>=6.1.0 in /Users/whe3/anaconda3/envs/mypymolenv/lib/python3.8/site-packages (from ipywidgets>=7->nglview) (8.12.2)\n",
      "Requirement already satisfied: traitlets>=4.3.1 in /Users/whe3/anaconda3/envs/mypymolenv/lib/python3.8/site-packages (from ipywidgets>=7->nglview) (5.9.0)\n",
      "Requirement already satisfied: widgetsnbextension~=4.0.7 in /Users/whe3/anaconda3/envs/mypymolenv/lib/python3.8/site-packages (from ipywidgets>=7->nglview) (4.0.7)\n",
      "Requirement already satisfied: appnope in /Users/whe3/anaconda3/envs/mypymolenv/lib/python3.8/site-packages (from ipykernel>=4.5.1->ipywidgets>=7->nglview) (0.1.3)\n",
      "Requirement already satisfied: comm>=0.1.1 in /Users/whe3/anaconda3/envs/mypymolenv/lib/python3.8/site-packages (from ipykernel>=4.5.1->ipywidgets>=7->nglview) (0.1.3)\n",
      "Requirement already satisfied: debugpy>=1.6.5 in /Users/whe3/anaconda3/envs/mypymolenv/lib/python3.8/site-packages (from ipykernel>=4.5.1->ipywidgets>=7->nglview) (1.6.7)\n",
      "Requirement already satisfied: jupyter-client>=6.1.12 in /Users/whe3/anaconda3/envs/mypymolenv/lib/python3.8/site-packages (from ipykernel>=4.5.1->ipywidgets>=7->nglview) (8.2.0)\n",
      "Requirement already satisfied: jupyter-core!=5.0.*,>=4.12 in /Users/whe3/anaconda3/envs/mypymolenv/lib/python3.8/site-packages (from ipykernel>=4.5.1->ipywidgets>=7->nglview) (5.3.0)\n",
      "Requirement already satisfied: matplotlib-inline>=0.1 in /Users/whe3/anaconda3/envs/mypymolenv/lib/python3.8/site-packages (from ipykernel>=4.5.1->ipywidgets>=7->nglview) (0.1.6)\n",
      "Requirement already satisfied: nest-asyncio in /Users/whe3/anaconda3/envs/mypymolenv/lib/python3.8/site-packages (from ipykernel>=4.5.1->ipywidgets>=7->nglview) (1.5.6)\n",
      "Requirement already satisfied: packaging in /Users/whe3/anaconda3/envs/mypymolenv/lib/python3.8/site-packages (from ipykernel>=4.5.1->ipywidgets>=7->nglview) (23.1)\n",
      "Requirement already satisfied: psutil in /Users/whe3/anaconda3/envs/mypymolenv/lib/python3.8/site-packages (from ipykernel>=4.5.1->ipywidgets>=7->nglview) (5.9.5)\n",
      "Requirement already satisfied: pyzmq>=20 in /Users/whe3/anaconda3/envs/mypymolenv/lib/python3.8/site-packages (from ipykernel>=4.5.1->ipywidgets>=7->nglview) (25.1.0)\n",
      "Requirement already satisfied: tornado>=6.1 in /Users/whe3/anaconda3/envs/mypymolenv/lib/python3.8/site-packages (from ipykernel>=4.5.1->ipywidgets>=7->nglview) (6.3.2)\n",
      "Requirement already satisfied: backcall in /Users/whe3/anaconda3/envs/mypymolenv/lib/python3.8/site-packages (from ipython>=6.1.0->ipywidgets>=7->nglview) (0.2.0)\n",
      "Requirement already satisfied: decorator in /Users/whe3/anaconda3/envs/mypymolenv/lib/python3.8/site-packages (from ipython>=6.1.0->ipywidgets>=7->nglview) (5.1.1)\n",
      "Requirement already satisfied: jedi>=0.16 in /Users/whe3/anaconda3/envs/mypymolenv/lib/python3.8/site-packages (from ipython>=6.1.0->ipywidgets>=7->nglview) (0.18.2)\n",
      "Requirement already satisfied: pickleshare in /Users/whe3/anaconda3/envs/mypymolenv/lib/python3.8/site-packages (from ipython>=6.1.0->ipywidgets>=7->nglview) (0.7.5)\n",
      "Requirement already satisfied: prompt-toolkit!=3.0.37,<3.1.0,>=3.0.30 in /Users/whe3/anaconda3/envs/mypymolenv/lib/python3.8/site-packages (from ipython>=6.1.0->ipywidgets>=7->nglview) (3.0.38)\n",
      "Requirement already satisfied: pygments>=2.4.0 in /Users/whe3/anaconda3/envs/mypymolenv/lib/python3.8/site-packages (from ipython>=6.1.0->ipywidgets>=7->nglview) (2.15.1)\n",
      "Requirement already satisfied: stack-data in /Users/whe3/anaconda3/envs/mypymolenv/lib/python3.8/site-packages (from ipython>=6.1.0->ipywidgets>=7->nglview) (0.6.2)\n",
      "Requirement already satisfied: typing-extensions in /Users/whe3/anaconda3/envs/mypymolenv/lib/python3.8/site-packages (from ipython>=6.1.0->ipywidgets>=7->nglview) (4.6.3)\n",
      "Requirement already satisfied: pexpect>4.3 in /Users/whe3/anaconda3/envs/mypymolenv/lib/python3.8/site-packages (from ipython>=6.1.0->ipywidgets>=7->nglview) (4.8.0)\n",
      "Requirement already satisfied: parso<0.9.0,>=0.8.0 in /Users/whe3/anaconda3/envs/mypymolenv/lib/python3.8/site-packages (from jedi>=0.16->ipython>=6.1.0->ipywidgets>=7->nglview) (0.8.3)\n",
      "Requirement already satisfied: importlib-metadata>=4.8.3 in /Users/whe3/anaconda3/envs/mypymolenv/lib/python3.8/site-packages (from jupyter-client>=6.1.12->ipykernel>=4.5.1->ipywidgets>=7->nglview) (6.6.0)\n",
      "Requirement already satisfied: python-dateutil>=2.8.2 in /Users/whe3/anaconda3/envs/mypymolenv/lib/python3.8/site-packages (from jupyter-client>=6.1.12->ipykernel>=4.5.1->ipywidgets>=7->nglview) (2.8.2)\n",
      "Requirement already satisfied: platformdirs>=2.5 in /Users/whe3/anaconda3/envs/mypymolenv/lib/python3.8/site-packages (from jupyter-core!=5.0.*,>=4.12->ipykernel>=4.5.1->ipywidgets>=7->nglview) (3.5.3)\n",
      "Requirement already satisfied: ptyprocess>=0.5 in /Users/whe3/anaconda3/envs/mypymolenv/lib/python3.8/site-packages (from pexpect>4.3->ipython>=6.1.0->ipywidgets>=7->nglview) (0.7.0)\n",
      "Requirement already satisfied: wcwidth in /Users/whe3/anaconda3/envs/mypymolenv/lib/python3.8/site-packages (from prompt-toolkit!=3.0.37,<3.1.0,>=3.0.30->ipython>=6.1.0->ipywidgets>=7->nglview) (0.2.6)\n",
      "Requirement already satisfied: executing>=1.2.0 in /Users/whe3/anaconda3/envs/mypymolenv/lib/python3.8/site-packages (from stack-data->ipython>=6.1.0->ipywidgets>=7->nglview) (1.2.0)\n",
      "Requirement already satisfied: asttokens>=2.1.0 in /Users/whe3/anaconda3/envs/mypymolenv/lib/python3.8/site-packages (from stack-data->ipython>=6.1.0->ipywidgets>=7->nglview) (2.2.1)\n",
      "Requirement already satisfied: pure-eval in /Users/whe3/anaconda3/envs/mypymolenv/lib/python3.8/site-packages (from stack-data->ipython>=6.1.0->ipywidgets>=7->nglview) (0.2.2)\n",
      "Requirement already satisfied: six in /Users/whe3/anaconda3/envs/mypymolenv/lib/python3.8/site-packages (from asttokens>=2.1.0->stack-data->ipython>=6.1.0->ipywidgets>=7->nglview) (1.16.0)\n",
      "Requirement already satisfied: zipp>=0.5 in /Users/whe3/anaconda3/envs/mypymolenv/lib/python3.8/site-packages (from importlib-metadata>=4.8.3->jupyter-client>=6.1.12->ipykernel>=4.5.1->ipywidgets>=7->nglview) (3.15.0)\n",
      "Building wheels for collected packages: nglview\n",
      "  Building wheel for nglview (pyproject.toml) ... \u001b[?25ldone\n",
      "\u001b[?25h  Created wheel for nglview: filename=nglview-3.0.5-py3-none-any.whl size=8267022 sha256=081fe7122d7efe3269b3ba3386d92d405f0f13ca0c52057ec3282d47c0b61586\n",
      "  Stored in directory: /Users/whe3/Library/Caches/pip/wheels/2b/fe/1d/f865c78c98d85258e66817c84ee474605763b567473389f1d7\n",
      "Successfully built nglview\n",
      "Installing collected packages: nglview\n",
      "Successfully installed nglview-3.0.5\n"
     ]
    }
   ],
   "source": [
    "! pip install nglview"
   ]
  },
  {
   "cell_type": "code",
   "execution_count": 4,
   "id": "27839dfc",
   "metadata": {
    "collapsed": true
   },
   "outputs": [
    {
     "name": "stdout",
     "output_type": "stream",
     "text": [
      "Intel MKL WARNING: Support of Intel(R) Streaming SIMD Extensions 4.2 (Intel(R) SSE4.2) enabled only processors has been deprecated. Intel oneAPI Math Kernel Library 2025.0 will require Intel(R) Advanced Vector Extensions (Intel(R) AVX) instructions.\n",
      "Intel MKL WARNING: Support of Intel(R) Streaming SIMD Extensions 4.2 (Intel(R) SSE4.2) enabled only processors has been deprecated. Intel oneAPI Math Kernel Library 2025.0 will require Intel(R) Advanced Vector Extensions (Intel(R) AVX) instructions.\n"
     ]
    },
    {
     "data": {
      "application/vnd.jupyter.widget-view+json": {
       "model_id": "00401809121249c181c687d2f5f4454b",
       "version_major": 2,
       "version_minor": 0
      },
      "text/plain": []
     },
     "metadata": {},
     "output_type": "display_data"
    },
    {
     "data": {
      "application/vnd.jupyter.widget-view+json": {
       "model_id": "6311d905b3c84b2ea8fede851952d4b6",
       "version_major": 2,
       "version_minor": 0
      },
      "text/plain": [
       "NGLWidget()"
      ]
     },
     "metadata": {},
     "output_type": "display_data"
    }
   ],
   "source": [
    "import nglview\n",
    "\n",
    "## Load a protein structure from local directory\n",
    "view = nglview.show_file('ERCC2_alphafold.pdb')\n",
    "\n",
    "view"
   ]
  },
  {
   "cell_type": "code",
   "execution_count": 5,
   "id": "a3c85f0f",
   "metadata": {
    "collapsed": true
   },
   "outputs": [
    {
     "data": {
      "application/vnd.jupyter.widget-view+json": {
       "model_id": "d8373df2f8a1444d8a69f5221a3f5101",
       "version_major": 2,
       "version_minor": 0
      },
      "text/plain": [
       "NGLWidget()"
      ]
     },
     "metadata": {},
     "output_type": "display_data"
    }
   ],
   "source": [
    "## show structure with surface\n",
    "view = nglview.show_file('ERCC2_alphafold.pdb')\n",
    "view.add_surface(opacity=0.4,color='lightblue')\n",
    "view.remove_cartoon()\n",
    "view"
   ]
  },
  {
   "cell_type": "code",
   "execution_count": 14,
   "id": "2eae41c5",
   "metadata": {},
   "outputs": [
    {
     "data": {
      "application/vnd.jupyter.widget-view+json": {
       "model_id": "71b257761b27463c8c44d178ecaf9263",
       "version_major": 2,
       "version_minor": 0
      },
      "text/plain": [
       "NGLWidget()"
      ]
     },
     "metadata": {},
     "output_type": "display_data"
    }
   ],
   "source": [
    "## show structure with stick-and-ball\n",
    "\n",
    "view = nglview.show_file('ERCC2_alphafold.pdb')\n",
    "\n",
    "view.add_ball_and_stick(color='red')\n",
    "view.remove_cartoon()\n",
    "\n",
    "view"
   ]
  },
  {
   "cell_type": "code",
   "execution_count": 15,
   "id": "bb398d22",
   "metadata": {},
   "outputs": [
    {
     "data": {
      "application/vnd.jupyter.widget-view+json": {
       "model_id": "f9240447206f47e0937fb5e7dfaf1751",
       "version_major": 2,
       "version_minor": 0
      },
      "text/plain": [
       "NGLWidget()"
      ]
     },
     "metadata": {},
     "output_type": "display_data"
    }
   ],
   "source": [
    "## show structure with dots\n",
    "\n",
    "view = nglview.show_file('ERCC2_alphafold.pdb')\n",
    "\n",
    "view.add_point()\n",
    "view.remove_cartoon()\n",
    "\n",
    "view"
   ]
  },
  {
   "cell_type": "code",
   "execution_count": 2,
   "id": "c6d50754",
   "metadata": {
    "scrolled": true
   },
   "outputs": [
    {
     "data": {
      "application/vnd.jupyter.widget-view+json": {
       "model_id": "a60519cbcc334151a81a03aa7cac8a23",
       "version_major": 2,
       "version_minor": 0
      },
      "text/plain": [
       "NGLWidget()"
      ]
     },
     "metadata": {},
     "output_type": "display_data"
    }
   ],
   "source": [
    "# Load a protein structure from pdb database\n",
    "\n",
    "view = nglview.show_pdbid('8g4v')\n",
    "\n",
    "view"
   ]
  },
  {
   "cell_type": "code",
   "execution_count": 18,
   "id": "48aa2d4f",
   "metadata": {},
   "outputs": [
    {
     "data": {
      "application/vnd.jupyter.widget-view+json": {
       "model_id": "8f174f6621144a25844351c0f3c8eebe",
       "version_major": 2,
       "version_minor": 0
      },
      "text/plain": [
       "NGLWidget()"
      ]
     },
     "metadata": {},
     "output_type": "display_data"
    }
   ],
   "source": [
    "## Highlight the selected the residues \n",
    "\n",
    "view = nglview.show_file('ERCC2_alphafold.pdb')\n",
    "\n",
    "#view.add_surface(opacity=0.4,color='lightgrey')\n",
    "view.remove_cartoon()\n",
    "\n",
    "view.add_representation('licorice', selection=str([1,14,15,19,26,30,40]),color='red',radius=0.5)\n",
    "\n",
    "view.add_representation('licorice', selection=str([1,139,128,134,148,150]),color='blue',radius=0.5)\n",
    "\n",
    "view.add_representation('licorice', selection=str([1,305,321,342,317,400]),color='green',radius=0.5)\n",
    "\n",
    "\n",
    "view.add_label(selection=str([1,305,321,342,317,400]),labelType=\"resname\",\n",
    "               labelGrouping = 'residue',font_size=100,color='black',\n",
    "               fontWeight='bold')\n",
    "\n",
    "view"
   ]
  },
  {
   "cell_type": "code",
   "execution_count": null,
   "id": "6961f9fd",
   "metadata": {},
   "outputs": [],
   "source": []
  }
 ],
 "metadata": {
  "kernelspec": {
   "display_name": "Python 3 (ipykernel)",
   "language": "python",
   "name": "python3"
  },
  "language_info": {
   "codemirror_mode": {
    "name": "ipython",
    "version": 3
   },
   "file_extension": ".py",
   "mimetype": "text/x-python",
   "name": "python",
   "nbconvert_exporter": "python",
   "pygments_lexer": "ipython3",
   "version": "3.8.16"
  }
 },
 "nbformat": 4,
 "nbformat_minor": 5
}
