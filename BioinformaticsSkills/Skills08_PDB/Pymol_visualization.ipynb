{
 "cells": [
  {
   "cell_type": "code",
   "execution_count": 1,
   "id": "426c8f98",
   "metadata": {
    "collapsed": true
   },
   "outputs": [
    {
     "name": "stderr",
     "output_type": "stream",
     "text": [
      "Cannot find license file.\n",
      " The license files (or license server system network addresses) attempted are \n",
      "listed below.  Use LM_LICENSE_FILE to use a different license file,\n",
      " or contact your software provider for a license file.\n",
      "Feature:       PYMOL_MAIN\n",
      "Filename:      /Library/Application Support/Schrodinger/licenses\n",
      "License path:  /Library/Application Support/Schrodinger/licenses:\n",
      "FlexNet Licensing error:-1,359.  System Error: 2 \"No such file or directory\"\n"
     ]
    }
   ],
   "source": [
    "import pymol"
   ]
  },
  {
   "cell_type": "code",
   "execution_count": 2,
   "id": "8ba9c6a0",
   "metadata": {},
   "outputs": [
    {
     "name": "stdout",
     "output_type": "stream",
     "text": [
      " PyMOL not running, entering library mode (experimental)\n"
     ]
    }
   ],
   "source": [
    "## Show ERCC2 structure \n",
    "\n",
    "pymol.cmd.load('ERCC2_alphafold.pdb')\n",
    "pymol.cmd.hide('everything')\n",
    "pymol.cmd.color('gray')\n",
    "pymol.cmd.bg_color('white')\n",
    "    \n",
    "pymol.cmd.show('cartoon')\n",
    "pymol.cmd.set('cartoon_transparency',0.6)\n",
    "\n",
    "\n",
    "pymol.cmd.save('ERCC2_test01.pse')"
   ]
  },
  {
   "cell_type": "code",
   "execution_count": 17,
   "id": "888da43d",
   "metadata": {},
   "outputs": [
    {
     "name": "stdout",
     "output_type": "stream",
     "text": [
      "10+15+17+18+20+25+29\n"
     ]
    }
   ],
   "source": [
    "## Highlight a group of residues on the structure\n",
    "\n",
    "ix_ls = [10,15,17,18,20,25,29]\n",
    "\n",
    "sel = '+'.join([str(num) for num in ix_ls])\n",
    "print(sel)        \n",
    "pymol.cmd.select('Cluster1', \"resi \"+sel)\n",
    "pymol.cmd.show('sticks', 'Cluster1')\n",
    "pymol.cmd.color('red', 'Cluster1')\n",
    "\n",
    "pymol.cmd.label('n. CA and i. '+sel, 'resi')\n",
    "pymol.cmd.set('label_size',14)\n",
    "pymol.cmd.set('stick_radius',0.5)\n",
    "pymol.cmd.set('stick_transparency',0.6)\n",
    "\n",
    "pymol.cmd.save('ERCC2_test02.pse')"
   ]
  },
  {
   "cell_type": "code",
   "execution_count": 5,
   "id": "a90eac7a",
   "metadata": {},
   "outputs": [
    {
     "name": "stdout",
     "output_type": "stream",
     "text": [
      "10+15+17+18+20+25+29\n",
      "120+125+139+146+117+143+150\n",
      "345+333+367+389+400+412+433\n",
      " Ray: render time: 33.09 sec. = 108.8 frames/hour (39.97 sec. accum.).\n"
     ]
    },
    {
     "data": {
      "text/plain": [
       "1"
      ]
     },
     "execution_count": 5,
     "metadata": {},
     "output_type": "execute_result"
    }
   ],
   "source": [
    "## Highlight different groups of residues on the structure\n",
    "\n",
    "cluster_ls = [[10,15,17,18,20,25,29],[120,125,139,146,117,143,150],[345,333,367,389,400,412,433]]\n",
    "color_list = ['red','green','blue']\n",
    "\n",
    "n = 0\n",
    "for ix_ls in cluster_ls:\n",
    "    sel = '+'.join([str(num) for num in ix_ls])\n",
    "    print(sel)\n",
    "        \n",
    "    color = color_list[n]\n",
    "\n",
    "    pymol.cmd.select('M'+str(n+1), \"resi \"+sel)\n",
    "    pymol.cmd.show('sticks', 'M'+str(n+1))\n",
    "    pymol.cmd.color(color, 'M'+str(n+1))\n",
    "\n",
    "    pymol.cmd.label('n. CA and i. '+sel, 'resi')\n",
    "    pymol.cmd.set('label_size',14)\n",
    "    pymol.cmd.set('stick_radius',0.5)\n",
    "        \n",
    "    n += 1\n",
    "    \n",
    "pymol.cmd.set('stick_transparency',0.6)\n",
    "pymol.cmd.save('ERCC2_test03.pse')\n",
    "pymol.cmd.png('ERCC2_test03.png',width=1200, height=1200, dpi=300, ray=1)    "
   ]
  },
  {
   "cell_type": "code",
   "execution_count": 20,
   "id": "71e19adb",
   "metadata": {},
   "outputs": [
    {
     "name": "stdout",
     "output_type": "stream",
     "text": [
      "10+15+17+18+20+25+29\n",
      "120+125+139+146+117+143+150\n",
      "345+333+367+389+400+412+433\n"
     ]
    }
   ],
   "source": [
    "## Show as surface\n",
    "\n",
    "pymol.cmd.hide('everything')\n",
    "pymol.cmd.show('surface')\n",
    "pymol.cmd.color('gray')\n",
    "\n",
    "cluster_ls = [[10,15,17,18,20,25,29],[120,125,139,146,117,143,150],[345,333,367,389,400,412,433]]\n",
    "color_list = ['red','green','blue']\n",
    "\n",
    "n = 0\n",
    "for ix_ls in cluster_ls:\n",
    "    sel = '+'.join([str(num) for num in ix_ls])\n",
    "    print(sel)\n",
    "        \n",
    "    color = color_list[n]\n",
    "\n",
    "    pymol.cmd.select('M'+str(n+1), \"resi \"+sel)\n",
    "    pymol.cmd.show('sticks', 'M'+str(n+1))\n",
    "    pymol.cmd.color(color, 'M'+str(n+1))\n",
    "\n",
    "    pymol.cmd.label('n. CA and i. '+sel, 'resi')\n",
    "    pymol.cmd.set('label_size',18)\n",
    "    pymol.cmd.set('stick_radius',0.5)\n",
    "        \n",
    "    n += 1\n",
    "    \n",
    "pymol.cmd.set('transparency',0.8)\n",
    "\n",
    "pymol.cmd.save('ERCC2_test04.pse')"
   ]
  },
  {
   "cell_type": "code",
   "execution_count": 21,
   "id": "fe673b2a",
   "metadata": {},
   "outputs": [],
   "source": [
    "## Overlay different scores on the structure\n",
    "\n",
    "## Confidential score LDDT\n",
    "\n",
    "pymol.cmd.hide('everything')\n",
    "pymol.cmd.show('cartoon')\n",
    "pymol.cmd.set('cartoon_transparency',0.4)\n",
    "\n",
    "pymol.cmd.spectrum('b','rainbow_rev',minimum=50,maximum=100)\n",
    "\n",
    "pymol.cmd.save('ERCC2_test05.pse')"
   ]
  },
  {
   "cell_type": "code",
   "execution_count": 22,
   "id": "cd4529be",
   "metadata": {},
   "outputs": [],
   "source": [
    "pymol.cmd.hide('everything')\n",
    "pymol.cmd.show('surface')\n",
    "pymol.cmd.set('transparency',0.4)\n",
    "\n",
    "pymol.cmd.spectrum('b','rainbow_rev',minimum=50,maximum=100)\n",
    "\n",
    "pymol.cmd.save('ERCC2_test06.pse')"
   ]
  },
  {
   "cell_type": "code",
   "execution_count": null,
   "id": "3d7be8f8",
   "metadata": {},
   "outputs": [],
   "source": []
  }
 ],
 "metadata": {
  "kernelspec": {
   "display_name": "Python 3 (ipykernel)",
   "language": "python",
   "name": "python3"
  },
  "language_info": {
   "codemirror_mode": {
    "name": "ipython",
    "version": 3
   },
   "file_extension": ".py",
   "mimetype": "text/x-python",
   "name": "python",
   "nbconvert_exporter": "python",
   "pygments_lexer": "ipython3",
   "version": "3.8.16"
  }
 },
 "nbformat": 4,
 "nbformat_minor": 5
}
