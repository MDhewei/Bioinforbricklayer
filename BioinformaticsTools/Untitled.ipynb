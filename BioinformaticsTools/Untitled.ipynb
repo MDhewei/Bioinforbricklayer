{
 "cells": [
  {
   "cell_type": "code",
   "execution_count": 8,
   "id": "34b15099",
   "metadata": {},
   "outputs": [
    {
     "name": "stdout",
     "output_type": "stream",
     "text": [
      "\u001b[31mERROR: Could not find a version that satisfies the requirement gdc-client (from versions: none)\u001b[0m\n",
      "\u001b[31mERROR: No matching distribution found for gdc-client\u001b[0m\n",
      "Note: you may need to restart the kernel to use updated packages.\n"
     ]
    }
   ],
   "source": [
    "pip install gdc-client\n"
   ]
  },
  {
   "cell_type": "code",
   "execution_count": 12,
   "id": "0d874776",
   "metadata": {},
   "outputs": [
    {
     "ename": "NameError",
     "evalue": "name 'diff_expression' is not defined",
     "output_type": "error",
     "traceback": [
      "\u001b[0;31m---------------------------------------------------------------------------\u001b[0m",
      "\u001b[0;31mNameError\u001b[0m                                 Traceback (most recent call last)",
      "\u001b[0;32m/var/folders/8z/zyvxrhzn6ln6_mr82rm20z_53zzvgq/T/ipykernel_65397/654964477.py\u001b[0m in \u001b[0;36m<module>\u001b[0;34m\u001b[0m\n\u001b[1;32m     15\u001b[0m \u001b[0;31m# Create the plot\u001b[0m\u001b[0;34m\u001b[0m\u001b[0;34m\u001b[0m\u001b[0m\n\u001b[1;32m     16\u001b[0m \u001b[0mplt\u001b[0m\u001b[0;34m.\u001b[0m\u001b[0mfigure\u001b[0m\u001b[0;34m(\u001b[0m\u001b[0mfigsize\u001b[0m\u001b[0;34m=\u001b[0m\u001b[0;34m(\u001b[0m\u001b[0;36m8\u001b[0m\u001b[0;34m,\u001b[0m \u001b[0;36m6\u001b[0m\u001b[0;34m)\u001b[0m\u001b[0;34m)\u001b[0m\u001b[0;34m\u001b[0m\u001b[0;34m\u001b[0m\u001b[0m\n\u001b[0;32m---> 17\u001b[0;31m \u001b[0mplt\u001b[0m\u001b[0;34m.\u001b[0m\u001b[0mhist\u001b[0m\u001b[0;34m(\u001b[0m\u001b[0mdiff_expression\u001b[0m\u001b[0;34m,\u001b[0m \u001b[0mbins\u001b[0m\u001b[0;34m=\u001b[0m\u001b[0;36m20\u001b[0m\u001b[0;34m,\u001b[0m \u001b[0malpha\u001b[0m\u001b[0;34m=\u001b[0m\u001b[0;36m0.5\u001b[0m\u001b[0;34m)\u001b[0m\u001b[0;34m\u001b[0m\u001b[0;34m\u001b[0m\u001b[0m\n\u001b[0m\u001b[1;32m     18\u001b[0m \u001b[0mplt\u001b[0m\u001b[0;34m.\u001b[0m\u001b[0mxlabel\u001b[0m\u001b[0;34m(\u001b[0m\u001b[0;34m'Expression Difference (Log Transformed TPM)'\u001b[0m\u001b[0;34m)\u001b[0m\u001b[0;34m\u001b[0m\u001b[0;34m\u001b[0m\u001b[0m\n\u001b[1;32m     19\u001b[0m \u001b[0mplt\u001b[0m\u001b[0;34m.\u001b[0m\u001b[0mylabel\u001b[0m\u001b[0;34m(\u001b[0m\u001b[0;34m'Frequency'\u001b[0m\u001b[0;34m)\u001b[0m\u001b[0;34m\u001b[0m\u001b[0;34m\u001b[0m\u001b[0m\n",
      "\u001b[0;31mNameError\u001b[0m: name 'diff_expression' is not defined"
     ]
    },
    {
     "data": {
      "text/plain": [
       "<Figure size 576x432 with 0 Axes>"
      ]
     },
     "metadata": {},
     "output_type": "display_data"
    }
   ],
   "source": [
    "import matplotlib.pyplot as plt\n",
    "import numpy as np\n",
    "from scipy import stats\n",
    "\n",
    "# Log-transform the data\n",
    "normal_log = np.log(normal_ls)\n",
    "tumor_log = np.log(tumor_ls)\n",
    "\n",
    "# Calculate the difference in expression\n",
    "#diff_expression = tumor_log - normal_log\n",
    "\n",
    "# Perform a t-test\n",
    "t_statistic, p_value = stats.ttest_ind(tumor_log, normal_log)\n",
    "\n",
    "# Create the plot\n",
    "plt.figure(figsize=(8, 6))\n",
    "plt.hist(diff_expression, bins=20, alpha=0.5)\n",
    "plt.xlabel('Expression Difference (Log Transformed TPM)')\n",
    "plt.ylabel('Frequency')\n",
    "plt.title('Expression Difference between Tumor and Normal Groups')\n",
    "plt.axvline(0, color='red', linestyle='--', label='Zero Difference')\n",
    "plt.legend()\n",
    "\n",
    "# Show the plot\n",
    "plt.show()\n",
    "\n",
    "# Print the p-value\n",
    "print('P-value:', p_value)\n"
   ]
  },
  {
   "cell_type": "code",
   "execution_count": 10,
   "id": "bb121dd1",
   "metadata": {},
   "outputs": [
    {
     "ename": "TypeError",
     "evalue": "can only concatenate list (not \"int\") to list",
     "output_type": "error",
     "traceback": [
      "\u001b[0;31m---------------------------------------------------------------------------\u001b[0m",
      "\u001b[0;31mTypeError\u001b[0m                                 Traceback (most recent call last)",
      "\u001b[0;32m/var/folders/8z/zyvxrhzn6ln6_mr82rm20z_53zzvgq/T/ipykernel_65397/4036825324.py\u001b[0m in \u001b[0;36m<module>\u001b[0;34m\u001b[0m\n\u001b[1;32m      4\u001b[0m \u001b[0mtumor_ls\u001b[0m \u001b[0;34m=\u001b[0m \u001b[0;34m[\u001b[0m\u001b[0;36m195.8286\u001b[0m\u001b[0;34m,\u001b[0m \u001b[0;36m132.0023\u001b[0m\u001b[0;34m,\u001b[0m \u001b[0;36m207.9085\u001b[0m\u001b[0;34m,\u001b[0m \u001b[0;36m143.3432\u001b[0m\u001b[0;34m,\u001b[0m \u001b[0;36m117.8986\u001b[0m\u001b[0;34m,\u001b[0m \u001b[0;36m276.8456\u001b[0m\u001b[0;34m,\u001b[0m \u001b[0;36m171.8027\u001b[0m\u001b[0;34m,\u001b[0m \u001b[0;36m123.4823\u001b[0m\u001b[0;34m,\u001b[0m \u001b[0;36m214.5565\u001b[0m\u001b[0;34m,\u001b[0m \u001b[0;36m166.0961\u001b[0m\u001b[0;34m,\u001b[0m \u001b[0;36m230.1\u001b[0m\u001b[0;34m,\u001b[0m \u001b[0;36m179.9867\u001b[0m\u001b[0;34m,\u001b[0m \u001b[0;36m100.3614\u001b[0m\u001b[0;34m,\u001b[0m \u001b[0;36m190.1752\u001b[0m\u001b[0;34m,\u001b[0m \u001b[0;36m230.1223\u001b[0m\u001b[0;34m,\u001b[0m \u001b[0;36m171.5556\u001b[0m\u001b[0;34m,\u001b[0m \u001b[0;36m224.2886\u001b[0m\u001b[0;34m,\u001b[0m \u001b[0;36m128.9572\u001b[0m\u001b[0;34m,\u001b[0m \u001b[0;36m161.4515\u001b[0m\u001b[0;34m,\u001b[0m \u001b[0;36m143.0746\u001b[0m\u001b[0;34m,\u001b[0m \u001b[0;36m361.7731\u001b[0m\u001b[0;34m,\u001b[0m \u001b[0;36m168.9983\u001b[0m\u001b[0;34m,\u001b[0m \u001b[0;36m142.5713\u001b[0m\u001b[0;34m,\u001b[0m \u001b[0;36m334.5106\u001b[0m\u001b[0;34m,\u001b[0m \u001b[0;36m165.2313\u001b[0m\u001b[0;34m,\u001b[0m \u001b[0;36m149.4087\u001b[0m\u001b[0;34m,\u001b[0m \u001b[0;36m111.5702\u001b[0m\u001b[0;34m,\u001b[0m \u001b[0;36m123.4456\u001b[0m\u001b[0;34m,\u001b[0m \u001b[0;36m70.7068\u001b[0m\u001b[0;34m,\u001b[0m \u001b[0;36m218.315\u001b[0m\u001b[0;34m,\u001b[0m \u001b[0;36m141.4027\u001b[0m\u001b[0;34m,\u001b[0m \u001b[0;36m340.9636\u001b[0m\u001b[0;34m,\u001b[0m \u001b[0;36m98.9946\u001b[0m\u001b[0;34m,\u001b[0m \u001b[0;36m141.3234\u001b[0m\u001b[0;34m,\u001b[0m \u001b[0;36m149.7726\u001b[0m\u001b[0;34m,\u001b[0m \u001b[0;36m175.8794\u001b[0m\u001b[0;34m,\u001b[0m \u001b[0;36m217.3588\u001b[0m\u001b[0;34m,\u001b[0m \u001b[0;36m574.9168\u001b[0m\u001b[0;34m,\u001b[0m \u001b[0;36m89.5466\u001b[0m\u001b[0;34m,\u001b[0m \u001b[0;36m136.2996\u001b[0m\u001b[0;34m,\u001b[0m \u001b[0;36m109.8284\u001b[0m\u001b[0;34m,\u001b[0m \u001b[0;36m138.2275\u001b[0m\u001b[0;34m,\u001b[0m \u001b[0;36m79.7423\u001b[0m\u001b[0;34m,\u001b[0m \u001b[0;36m119.6644\u001b[0m\u001b[0;34m,\u001b[0m \u001b[0;36m225.3477\u001b[0m\u001b[0;34m,\u001b[0m \u001b[0;36m141.1729\u001b[0m\u001b[0;34m,\u001b[0m \u001b[0;36m110.3479\u001b[0m\u001b[0;34m,\u001b[0m \u001b[0;36m186.7725\u001b[0m\u001b[0;34m,\u001b[0m \u001b[0;36m96.3614\u001b[0m\u001b[0;34m,\u001b[0m \u001b[0;36m201.1088\u001b[0m\u001b[0;34m,\u001b[0m \u001b[0;36m283.9314\u001b[0m\u001b[0;34m,\u001b[0m \u001b[0;36m148.0638\u001b[0m\u001b[0;34m,\u001b[0m \u001b[0;36m42.2374\u001b[0m\u001b[0;34m,\u001b[0m \u001b[0;36m93.3744\u001b[0m\u001b[0;34m,\u001b[0m \u001b[0;36m123.0092\u001b[0m\u001b[0;34m,\u001b[0m \u001b[0;36m326.7854\u001b[0m\u001b[0;34m,\u001b[0m \u001b[0;36m100.7399\u001b[0m\u001b[0;34m,\u001b[0m \u001b[0;36m123.4899\u001b[0m\u001b[0;34m,\u001b[0m \u001b[0;36m291.2717\u001b[0m\u001b[0;34m,\u001b[0m \u001b[0;36m106.279\u001b[0m\u001b[0;34m,\u001b[0m \u001b[0;36m125.3602\u001b[0m\u001b[0;34m,\u001b[0m \u001b[0;36m133.8396\u001b[0m\u001b[0;34m,\u001b[0m \u001b[0;36m175.5992\u001b[0m\u001b[0;34m,\u001b[0m \u001b[0;36m96.1672\u001b[0m\u001b[0;34m,\u001b[0m \u001b[0;36m137.5712\u001b[0m\u001b[0;34m,\u001b[0m \u001b[0;36m215.2018\u001b[0m\u001b[0;34m,\u001b[0m \u001b[0;36m165.1306\u001b[0m\u001b[0;34m,\u001b[0m \u001b[0;36m232.5486\u001b[0m\u001b[0;34m,\u001b[0m \u001b[0;36m153.9911\u001b[0m\u001b[0;34m,\u001b[0m \u001b[0;36m143.8801\u001b[0m\u001b[0;34m,\u001b[0m \u001b[0;36m119.9858\u001b[0m\u001b[0;34m,\u001b[0m \u001b[0;36m244.9679\u001b[0m\u001b[0;34m,\u001b[0m \u001b[0;36m238.749\u001b[0m\u001b[0;34m,\u001b[0m \u001b[0;36m178.8618\u001b[0m\u001b[0;34m,\u001b[0m \u001b[0;36m185.9438\u001b[0m\u001b[0;34m,\u001b[0m \u001b[0;36m598.3099\u001b[0m\u001b[0;34m,\u001b[0m \u001b[0;36m89.1106\u001b[0m\u001b[0;34m,\u001b[0m \u001b[0;36m82.8846\u001b[0m\u001b[0;34m,\u001b[0m \u001b[0;36m158.3477\u001b[0m\u001b[0;34m,\u001b[0m \u001b[0;36m105.8332\u001b[0m\u001b[0;34m,\u001b[0m \u001b[0;36m120.4863\u001b[0m\u001b[0;34m,\u001b[0m \u001b[0;36m195.199\u001b[0m\u001b[0;34m,\u001b[0m \u001b[0;36m127.8254\u001b[0m\u001b[0;34m,\u001b[0m \u001b[0;36m138.9892\u001b[0m\u001b[0;34m,\u001b[0m \u001b[0;36m305.9388\u001b[0m\u001b[0;34m,\u001b[0m \u001b[0;36m328.9617\u001b[0m\u001b[0;34m,\u001b[0m \u001b[0;36m169.4915\u001b[0m\u001b[0;34m,\u001b[0m \u001b[0;36m141.9579\u001b[0m\u001b[0;34m,\u001b[0m \u001b[0;36m197.026\u001b[0m\u001b[0;34m,\u001b[0m \u001b[0;36m162.5442\u001b[0m\u001b[0;34m,\u001b[0m \u001b[0;36m123.4043\u001b[0m\u001b[0;34m,\u001b[0m \u001b[0;36m122.1264\u001b[0m\u001b[0;34m,\u001b[0m \u001b[0;36m102.7341\u001b[0m\u001b[0;34m,\u001b[0m \u001b[0;36m311.9411\u001b[0m\u001b[0;34m,\u001b[0m \u001b[0;36m146.2264\u001b[0m\u001b[0;34m,\u001b[0m \u001b[0;36m211.2944\u001b[0m\u001b[0;34m,\u001b[0m \u001b[0;36m138.673\u001b[0m\u001b[0;34m,\u001b[0m \u001b[0;36m157.6981\u001b[0m\u001b[0;34m,\u001b[0m \u001b[0;36m90.8422\u001b[0m\u001b[0;34m,\u001b[0m \u001b[0;36m187.6952\u001b[0m\u001b[0;34m,\u001b[0m \u001b[0;36m136.737\u001b[0m\u001b[0;34m,\u001b[0m \u001b[0;36m201.0945\u001b[0m\u001b[0;34m,\u001b[0m \u001b[0;36m253.6285\u001b[0m\u001b[0;34m,\u001b[0m \u001b[0;36m128.2943\u001b[0m\u001b[0;34m,\u001b[0m \u001b[0;36m100.1969\u001b[0m\u001b[0;34m,\u001b[0m \u001b[0;36m109.3323\u001b[0m\u001b[0;34m,\u001b[0m \u001b[0;36m263.3329\u001b[0m\u001b[0;34m,\u001b[0m \u001b[0;36m256.9869\u001b[0m\u001b[0;34m,\u001b[0m \u001b[0;36m176.616\u001b[0m\u001b[0;34m,\u001b[0m \u001b[0;36m225.8797\u001b[0m\u001b[0;34m,\u001b[0m \u001b[0;36m240.0205\u001b[0m\u001b[0;34m,\u001b[0m \u001b[0;36m208.6879\u001b[0m\u001b[0;34m,\u001b[0m \u001b[0;36m165.1323\u001b[0m\u001b[0;34m,\u001b[0m \u001b[0;36m111.8765\u001b[0m\u001b[0;34m,\u001b[0m \u001b[0;36m146.4961\u001b[0m\u001b[0;34m,\u001b[0m \u001b[0;36m139.6459\u001b[0m\u001b[0;34m,\u001b[0m \u001b[0;36m133.1087\u001b[0m\u001b[0;34m,\u001b[0m \u001b[0;36m251.6969\u001b[0m\u001b[0;34m,\u001b[0m \u001b[0;36m78.4314\u001b[0m\u001b[0;34m,\u001b[0m \u001b[0;36m102.0313\u001b[0m\u001b[0;34m,\u001b[0m \u001b[0;36m118.9749\u001b[0m\u001b[0;34m,\u001b[0m \u001b[0;36m193.395\u001b[0m\u001b[0;34m,\u001b[0m \u001b[0;36m146.5058\u001b[0m\u001b[0;34m,\u001b[0m \u001b[0;36m43.7767\u001b[0m\u001b[0;34m,\u001b[0m \u001b[0;36m69.872\u001b[0m\u001b[0;34m,\u001b[0m \u001b[0;36m71.8391\u001b[0m\u001b[0;34m,\u001b[0m \u001b[0;36m45.4156\u001b[0m\u001b[0;34m,\u001b[0m \u001b[0;36m170.638\u001b[0m\u001b[0;34m,\u001b[0m \u001b[0;36m55.0877\u001b[0m\u001b[0;34m,\u001b[0m \u001b[0;36m112.7355\u001b[0m\u001b[0;34m]\u001b[0m\u001b[0;34m\u001b[0m\u001b[0;34m\u001b[0m\u001b[0m\n\u001b[1;32m      5\u001b[0m \u001b[0;34m\u001b[0m\u001b[0m\n\u001b[0;32m----> 6\u001b[0;31m \u001b[0mlog_normal_ls\u001b[0m \u001b[0;34m=\u001b[0m \u001b[0mnp\u001b[0m\u001b[0;34m.\u001b[0m\u001b[0mlog\u001b[0m\u001b[0;34m(\u001b[0m\u001b[0mnormal_ls\u001b[0m\u001b[0;34m+\u001b[0m\u001b[0;36m1\u001b[0m\u001b[0;34m)\u001b[0m\u001b[0;34m\u001b[0m\u001b[0;34m\u001b[0m\u001b[0m\n\u001b[0m\u001b[1;32m      7\u001b[0m \u001b[0mlog_tumor_ls\u001b[0m \u001b[0;34m=\u001b[0m \u001b[0mnp\u001b[0m\u001b[0;34m.\u001b[0m\u001b[0mlog\u001b[0m\u001b[0;34m(\u001b[0m\u001b[0mtumor_ls\u001b[0m\u001b[0;34m+\u001b[0m\u001b[0;36m1\u001b[0m\u001b[0;34m)\u001b[0m\u001b[0;34m\u001b[0m\u001b[0;34m\u001b[0m\u001b[0m\n\u001b[1;32m      8\u001b[0m \u001b[0;34m\u001b[0m\u001b[0m\n",
      "\u001b[0;31mTypeError\u001b[0m: can only concatenate list (not \"int\") to list"
     ]
    }
   ],
   "source": [
    "import numpy as np\n",
    "\n",
    "normal_ls = [69.1411, 121.9456, 209.7811, 873.6532, 104.752, 312.4899, 188.6359, 84.4097, 124.1888, 57.2201, 192.0318, 193.0321, 42.0711, 54.3272, 8.574, 207.7978, 115.6073, 45.2011, 126.3388, 68.8515, 148.6755, 259.6695, 38.0313, 228.318, 41.7515, 24.0786, 143.6774, 162.0224, 67.5505, 19.5761, 33.5702, 38.6503, 70.8333, 81.1972, 84.836, 202.055, 183.513, 80.7645, 83.9303, 359.4863, 79.6312, 54.5498, 73.1611, 158.8152, 41.9737, 163.1712, 64.8333, 29.2505, 242.194, 28.9317, 33.6464, 20.8249, 79.7212, 177.4339, 46.7404, 13.3436, 91.6895, 27.0634, 237.2049, 243.9686, 368.0002, 95.3978, 86.1017, 138.7365, 74.253, 51.2577, 103.77, 99.6544, 104.7258, 72.7725, 101.0864, 83.4694, 28.0592, 76.8026, 58.2533, 47.3475, 103.5626, 55, 115.9594, 126.8209, 72.5908, 80.2591, 34.3276, 146.8635, 71.5768, 84.4799, 73.6252, 48.7013, 65.7423, 64.8762, 65.7557, 51.7594, 71.5654, 141.023, 133.4576, 75.2861, 56.2633, 74.1811, 81.5932]\n",
    "tumor_ls = [195.8286, 132.0023, 207.9085, 143.3432, 117.8986, 276.8456, 171.8027, 123.4823, 214.5565, 166.0961, 230.1, 179.9867, 100.3614, 190.1752, 230.1223, 171.5556, 224.2886, 128.9572, 161.4515, 143.0746, 361.7731, 168.9983, 142.5713, 334.5106, 165.2313, 149.4087, 111.5702, 123.4456, 70.7068, 218.315, 141.4027, 340.9636, 98.9946, 141.3234, 149.7726, 175.8794, 217.3588, 574.9168, 89.5466, 136.2996, 109.8284, 138.2275, 79.7423, 119.6644, 225.3477, 141.1729, 110.3479, 186.7725, 96.3614, 201.1088, 283.9314, 148.0638, 42.2374, 93.3744, 123.0092, 326.7854, 100.7399, 123.4899, 291.2717, 106.279, 125.3602, 133.8396, 175.5992, 96.1672, 137.5712, 215.2018, 165.1306, 232.5486, 153.9911, 143.8801, 119.9858, 244.9679, 238.749, 178.8618, 185.9438, 598.3099, 89.1106, 82.8846, 158.3477, 105.8332, 120.4863, 195.199, 127.8254, 138.9892, 305.9388, 328.9617, 169.4915, 141.9579, 197.026, 162.5442, 123.4043, 122.1264, 102.7341, 311.9411, 146.2264, 211.2944, 138.673, 157.6981, 90.8422, 187.6952, 136.737, 201.0945, 253.6285, 128.2943, 100.1969, 109.3323, 263.3329, 256.9869, 176.616, 225.8797, 240.0205, 208.6879, 165.1323, 111.8765, 146.4961, 139.6459, 133.1087, 251.6969, 78.4314, 102.0313, 118.9749, 193.395, 146.5058, 43.7767, 69.872, 71.8391, 45.4156, 170.638, 55.0877, 112.7355]\n",
    "\n",
    "log_normal_ls = np.log(normal_ls)\n",
    "log_tumor_ls = np.log(tumor_ls)\n",
    "\n",
    "#log_diff = log_normal_ls - log_tumor_ls\n",
    "\n",
    "#print(log_diff)\n"
   ]
  },
  {
   "cell_type": "code",
   "execution_count": 13,
   "id": "4a113ce6",
   "metadata": {},
   "outputs": [
    {
     "data": {
      "image/png": "[encoded data removed]",
      "text/plain": [
       "<Figure size 576x432 with 1 Axes>"
      ]
     },
     "metadata": {
      "needs_background": "light"
     },
     "output_type": "display_data"
    },
    {
     "name": "stdout",
     "output_type": "stream",
     "text": [
      "P-value: 7.121276539190207e-13\n"
     ]
    }
   ],
   "source": [
    "import matplotlib.pyplot as plt\n",
    "import numpy as np\n",
    "from scipy import stats\n",
    "\n",
    "# Log-transform the data\n",
    "normal_log = np.log(normal_ls)\n",
    "tumor_log = np.log(tumor_ls)\n",
    "\n",
    "# Perform a t-test\n",
    "t_statistic, p_value = stats.ttest_ind(tumor_log, normal_log)\n",
    "\n",
    "# Create a boxplot\n",
    "plt.figure(figsize=(8, 6))\n",
    "plt.boxplot([normal_log, tumor_log], labels=['Normal', 'Tumor'])\n",
    "plt.ylabel('Expression (Log Transformed TPM)')\n",
    "plt.title('Expression Difference between Tumor and Normal Groups')\n",
    "\n",
    "# Add significance level if p-value is less than 0.05\n",
    "if p_value < 0.05:\n",
    "    plt.text(1.5, np.max(tumor_log), f'p = {p_value:.4f}', ha='center', va='bottom')\n",
    "\n",
    "# Show the plot\n",
    "plt.show()\n",
    "\n",
    "# Print the p-value\n",
    "print('P-value:', p_value)\n"
   ]
  },
  {
   "cell_type": "code",
   "execution_count": 16,
   "id": "1f0ca127",
   "metadata": {},
   "outputs": [
    {
     "name": "stdout",
     "output_type": "stream",
     "text": [
      "7.121276539190207e-13\n",
      "[7.12127654e-13]\n"
     ]
    },
    {
     "data": {
      "image/png": "[encoded data removed]",
      "text/plain": [
       "<Figure size 576x432 with 1 Axes>"
      ]
     },
     "metadata": {
      "needs_background": "light"
     },
     "output_type": "display_data"
    },
    {
     "name": "stdout",
     "output_type": "stream",
     "text": [
      "Corrected p-values: [7.12127654e-13]\n"
     ]
    }
   ],
   "source": [
    "import matplotlib.pyplot as plt\n",
    "import numpy as np\n",
    "from scipy import stats\n",
    "from statsmodels.stats.multitest import multipletests\n",
    "\n",
    "# Log-transform the data\n",
    "normal_log = np.log(normal_ls)\n",
    "tumor_log = np.log(tumor_ls)\n",
    "\n",
    "# Perform a t-test\n",
    "t_statistic, p_values = stats.ttest_ind(tumor_log, normal_log)\n",
    "\n",
    "print(p_values)\n",
    "\n",
    "# Apply Benjamini-Hochberg correction\n",
    "alpha = 0.05\n",
    "reject, p_values_corrected, _, _ = multipletests(p_values, alpha=alpha, method='fdr_bh')\n",
    "\n",
    "print(p_values_corrected)\n",
    "\n",
    "# Create a boxplot\n",
    "plt.figure(figsize=(8, 6))\n",
    "plt.boxplot([normal_log, tumor_log], labels=['Normal', 'Tumor'])\n",
    "plt.ylabel('Expression (Log Transformed TPM)')\n",
    "plt.title('Expression Difference between Tumor and Normal Groups')\n",
    "\n",
    "# Add significance levels for corrected p-values\n",
    "for i, p in enumerate(p_values_corrected):\n",
    "    if reject[i]:\n",
    "        plt.text(i + 1, np.max(tumor_log), f'p = {p:.4f}', ha='center', va='bottom')\n",
    "\n",
    "# Show the plot\n",
    "plt.show()\n",
    "\n",
    "# Print the corrected p-values\n",
    "print('Corrected p-values:', p_values_corrected)\n"
   ]
  },
  {
   "cell_type": "code",
   "execution_count": null,
   "id": "c2df96d8",
   "metadata": {},
   "outputs": [],
   "source": []
  }
 ],
 "metadata": {
  "kernelspec": {
   "display_name": "Python 3 (ipykernel)",
   "language": "python",
   "name": "python3"
  },
  "language_info": {
   "codemirror_mode": {
    "name": "ipython",
    "version": 3
   },
   "file_extension": ".py",
   "mimetype": "text/x-python",
   "name": "python",
   "nbconvert_exporter": "python",
   "pygments_lexer": "ipython3",
   "version": "3.9.7"
  }
 },
 "nbformat": 4,
 "nbformat_minor": 5
}
